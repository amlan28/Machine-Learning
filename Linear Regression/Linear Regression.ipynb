{
  "nbformat": 4,
  "nbformat_minor": 0,
  "metadata": {
    "colab": {
      "name": "Untitled0.ipynb",
      "provenance": []
    },
    "kernelspec": {
      "name": "python3",
      "display_name": "Python 3"
    },
    "language_info": {
      "name": "python"
    }
  },
  "cells": [
    {
      "cell_type": "code",
      "metadata": {
        "colab": {
          "base_uri": "https://localhost:8080/",
          "height": 669
        },
        "id": "Ou8gaEHmktqE",
        "outputId": "f56d24dc-a1a9-4081-808f-c80fc4df8ec0"
      },
      "source": [
        "import numpy as np\n",
        "import pandas as pd\n",
        "import matplotlib.pyplot as plt\n",
        "%matplotlib inline\n",
        "raw_data = pd.read_csv('https://raw.githubusercontent.com/stutisehgal/MachineLearning/0d077bf91dcade8ecba67d7a2c0789f48cc15537/Multiple%20Linear%20Regression/chennai_house_multivariate_train.csv')\n",
        "raw_data.head()\n",
        "raw_data.describe()\n",
        "data=(raw_data-raw_data.mean())/(raw_data.max()-raw_data.min())\n",
        "data.head()\n",
        "data.min()\n",
        "data.max()\n",
        "data.shape\n",
        "cols = data.shape[1]\n",
        "print (cols)\n",
        "data.insert(0, 'Ones', 1)\n",
        "data.head()\n",
        "cols = data.shape[1]\n",
        "print (cols)\n",
        "x=data.iloc[:,0:cols-1]\n",
        "y=data.iloc[:,cols-1:cols]\n",
        "x = np.matrix(x)\n",
        "y = np.matrix(y)\n",
        "params = x.shape[1]\n",
        "theta = np.matrix(np.array(np.zeros(params)))\n",
        "x.shape, theta.shape, y.shape\n",
        "def computeError(x, y, theta):\n",
        "    inner = np.power(((x * theta.T) - y), 2)\n",
        "    \n",
        "    return np.sum(inner) / (2 * len(x))\n",
        "    computeError(x, y, theta)\n",
        "Learn_rate=0.15\n",
        "iters =2000\n",
        "def gradientDescent(x, y, theta, Learn_rate, iters):\n",
        "    temp = np.matrix(np.zeros(theta.shape))\n",
        "    parameters = int(theta.ravel().shape[1])\n",
        "    cost = np.zeros(iters)\n",
        "    \n",
        "    for i in range(iters):\n",
        "        error = (x * theta.T) - y\n",
        "        \n",
        "        for j in range(parameters):\n",
        "            term = np.multiply(error, x[:,j])\n",
        "            temp[0,j] = theta[0,j] - ((Learn_rate/ len(x)) * np.sum(term))\n",
        "            \n",
        "        theta = temp\n",
        "        cost[i] = computeError(x, y, theta)\n",
        "        \n",
        "    return theta, cost\n",
        "\n",
        "new_theta, cost = gradientDescent(x, y, theta, Learn_rate, iters)\n",
        "print(new_theta, cost)\n",
        "computeError(x, y, new_theta)\n",
        "Model_price =  x*new_theta.T\n",
        "\n",
        "fig, ax = plt.subplots(figsize=(12,8))\n",
        "ax.plot(np.arange(iters), cost, 'r')\n",
        "ax.set_xlabel('Iterations')\n",
        "ax.set_ylabel('Cost')\n",
        "ax.set_title('Error vs. Iterations')\n",
        "\n",
        "import math\n",
        "erro_r = [np.power((b-a),2) for (a, b) in zip(Model_price, y)] #mean absolute percentage error\n",
        "error0 = np.sum(erro_r)\n",
        "\n",
        "error=(error0/len(y))*100\n",
        "\n",
        "print(\"training error % = {}\".format(error))\n",
        "accuracy= 100 - error\n",
        "print(\"training accuracy %={}\".format(accuracy))"
      ],
      "execution_count": 2,
      "outputs": [
        {
          "output_type": "stream",
          "name": "stdout",
          "text": [
            "17\n",
            "18\n",
            "[[ 1.90490508e-17 -5.73677135e-02  1.17336857e-01  3.17018539e-03\n",
            "   5.97737022e-02  1.80115490e-02  1.45254033e-01  2.53207477e-02\n",
            "  -1.00292443e-01 -6.47049078e-03  6.86241867e-03  9.62538284e-02\n",
            "   5.10706068e-03  8.51834585e-04  2.98261920e-03  5.01629212e-01\n",
            "   8.16976274e-02]] [0.01457514 0.01399538 0.01344552 ... 0.00192058 0.00192055 0.00192052]\n",
            "training error % = 0.3841044251421731\n",
            "training accuracy %=99.61589557485783\n"
          ]
        },
        {
          "output_type": "display_data",
          "data": {
            "image/png": "[encoded data removed]",
            "text/plain": [
              "<Figure size 864x576 with 1 Axes>"
            ]
          },
          "metadata": {
            "needs_background": "light"
          }
        }
      ]
    },
    {
      "cell_type": "code",
      "metadata": {
        "colab": {
          "base_uri": "https://localhost:8080/"
        },
        "id": "tGMvSRKG9mU-",
        "outputId": "0c25cc8b-8385-4370-f4da-ce25504a7f3a"
      },
      "source": [
        "t_raw_data = pd.read_csv('https://raw.githubusercontent.com/stutisehgal/MachineLearning/0d077bf91dcade8ecba67d7a2c0789f48cc15537/Multiple%20Linear%20Regression/chennai_house_multivariate_test.csv')\n",
        "t_raw_data.head()\n",
        "t_data=(t_raw_data-raw_data.mean())/(raw_data.max()-raw_data.min())\n",
        "t_data.insert(0, 'Ones', 1)\n",
        "t_data.head()\n",
        "t_cols = t_data.shape[1]\n",
        "print (t_cols)\n",
        "t_x=t_data.iloc[:,0:t_cols-1]\n",
        "t_y=t_data.iloc[:,t_cols-1:t_cols]\n",
        "t_x.shape\n",
        "t_x = np.matrix(t_x)\n",
        "t_y = np.matrix(t_y)\n",
        "Model_testdata_price =  t_x*new_theta.T\n",
        "test_error = [np.power((b-a),2) for (a, b) in zip(Model_testdata_price, t_y)] #mean absolute percentage error\n",
        "error = np.sum(test_error)\n",
        "\n",
        "error=(error/len(y))*100\n",
        "\n",
        "print(\"test error % = {}\".format(error))\n",
        "accuracy= 100 - error\n",
        "print(\"test accuracy %={}\".format(accuracy))"
      ],
      "execution_count": 3,
      "outputs": [
        {
          "output_type": "stream",
          "name": "stdout",
          "text": [
            "18\n",
            "test error % = 0.06609677414719763\n",
            "test accuracy %=99.9339032258528\n"
          ]
        }
      ]
    }
  ]
}