{
  "nbformat": 4,
  "nbformat_minor": 0,
  "metadata": {
    "colab": {
      "name": "Mini Project.ipynb",
      "provenance": []
    },
    "kernelspec": {
      "display_name": "Python 3",
      "name": "python3"
    },
    "language_info": {
      "name": "python"
    }
  },
  "cells": [
    {
      "cell_type": "code",
      "metadata": {
        "colab": {
          "base_uri": "https://localhost:8080/"
        },
        "id": "RLJtslS_vyEZ",
        "outputId": "5b2d3911-8e74-49af-bdf3-d7a5c42bfe8f"
      },
      "source": [
        "#Decision Tree Classifier\n",
        "import pandas as pd\n",
        "from sklearn.tree import DecisionTreeClassifier # Import Decision Tree Classifier\n",
        "from sklearn.model_selection import train_test_split # Import train_test_split function\n",
        "from sklearn import metrics #Import scikit-learn metrics module for accuracy calculation\n",
        "from sklearn import datasets\n",
        "from sklearn.metrics import precision_recall_fscore_support, accuracy_score\n",
        "col_names = ['pregnant', 'glucose', 'bp', 'skin', 'insulin', 'bmi', 'pedigree', 'age', 'label']\n",
        "# load dataset\n",
        "pima = pd.read_csv(\"diabetes.csv\", header=None, names=col_names)\n",
        "feature_cols = ['pregnant', 'insulin', 'bmi', 'age','glucose','bp','pedigree']\n",
        "X = pima[feature_cols] # Features\n",
        "y = pima.label # Target variable \n",
        "X_train, X_test, y_train, y_test = train_test_split(X, y, test_size=0.3, random_state=0) # 70% training and 30% test\n",
        "clf = DecisionTreeClassifier(random_state = 0)\n",
        "\n",
        "# Train Decision Tree Classifer\n",
        "clf = clf.fit(X_train,y_train)\n",
        "\n",
        "#Predict the response for test dataset\n",
        "y_pred = clf.predict(X_test)\n",
        "print(\"Accuracy:\",metrics.accuracy_score(y_test, y_pred)*100)\n",
        "\n",
        "\n",
        "precision, recall, f1_score, _ = precision_recall_fscore_support(y_test, y_pred, average='macro') #Average can changed based on choice or feasibilty\n",
        "print(\"Precision: \", precision*100)\n",
        "print(\"Recall: \", recall*100)\n",
        "print(\"F1 score: \", f1_score*100)"
      ],
      "execution_count": null,
      "outputs": [
        {
          "output_type": "stream",
          "text": [
            "Accuracy: 74.02597402597402\n",
            "Precision:  70.33685268979386\n",
            "Recall:  70.88999827853331\n",
            "F1 score:  70.58573853989813\n"
          ],
          "name": "stdout"
        }
      ]
    },
    {
      "cell_type": "code",
      "metadata": {
        "colab": {
          "base_uri": "https://localhost:8080/"
        },
        "id": "s3LxLUszD4Zz",
        "outputId": "4de2edcc-53bc-4cae-b651-59076716563e"
      },
      "source": [
        "#Random Forest Classifier\n",
        "import pandas as pd\n",
        "from sklearn.model_selection import train_test_split # Import train_test_split function\n",
        "from sklearn import metrics #Import scikit-learn metrics module for accuracy calculation\n",
        "\n",
        "\n",
        "col_names = ['pregnant', 'glucose', 'bp', 'skin', 'insulin', 'bmi', 'pedigree', 'age', 'label']\n",
        "# load dataset\n",
        "pima = pd.read_csv(\"diabetes.csv\", header=None, names=col_names)\n",
        "feature_cols = ['pregnant', 'insulin', 'bmi', 'age','glucose','bp','pedigree']\n",
        "X = pima[feature_cols] # Features\n",
        "y = pima.label # Target variable\n",
        "\n",
        "X_train, X_test, y_train, y_test = train_test_split(X, y, test_size=0.3,random_state=0)\n",
        "from sklearn.ensemble import RandomForestClassifier # 70% training and 30% test\n",
        "clf = RandomForestClassifier(n_estimators=100,random_state=0)\n",
        "\n",
        "\n",
        "clf=clf.fit(X_train,y_train)\n",
        "\n",
        "y_pred=clf.predict(X_test)\n",
        "y_pred = clf.predict(X_test)\n",
        "print(\"Accuracy:\",metrics.accuracy_score(y_test, y_pred)*100)\n",
        "\n",
        "\n",
        "precision, recall, f1_score, _ = precision_recall_fscore_support(y_test, y_pred, average='macro')  #Average can changed based on choice or feasibilty\n",
        "print(\"Precision: \", precision*100)\n",
        "print(\"Recall: \", recall*100)\n",
        "print(\"F1 score: \", f1_score*100)"
      ],
      "execution_count": null,
      "outputs": [
        {
          "output_type": "stream",
          "text": [
            "Accuracy: 77.92207792207793\n",
            "Precision:  74.90079365079364\n",
            "Recall:  72.6846273024617\n",
            "F1 score:  73.54070746771477\n"
          ],
          "name": "stdout"
        }
      ]
    },
    {
      "cell_type": "code",
      "metadata": {
        "colab": {
          "base_uri": "https://localhost:8080/"
        },
        "id": "KiARhbO2ZaIh",
        "outputId": "971e124a-3e7e-41ae-b508-e1d2795d875a"
      },
      "source": [
        "#SVM\n",
        "import pandas as pd\n",
        "from sklearn.model_selection import train_test_split # Import train_test_split function\n",
        "from sklearn import metrics #Import scikit-learn metrics module for accuracy calculation\n",
        "col_names = ['pregnant', 'glucose', 'bp', 'skin', 'insulin', 'bmi', 'pedigree', 'age', 'label']\n",
        "# load dataset\n",
        "pima = pd.read_csv(\"diabetes.csv\", header=None, names=col_names)\n",
        "feature_cols = ['pregnant', 'insulin', 'bmi', 'age','glucose','bp','pedigree']\n",
        "X = pima[feature_cols] # Features\n",
        "y = pima.label # Target variable\n",
        "X_train, X_test, y_train, y_test = train_test_split(X, y, test_size=0.3,random_state=0)\n",
        "from sklearn import svm\n",
        "\n",
        "#Create a svm Classifier\n",
        "clf = svm.SVC(kernel='linear',random_state=0) # Linear Kernel\n",
        "\n",
        "#Train the model using the training sets\n",
        "clf.fit(X_train, y_train)\n",
        "\n",
        "#Predict the response for test dataset\n",
        "y_pred = clf.predict(X_test)\n",
        "y_pred = clf.predict(X_test)\n",
        "print(\"Accuracy:\",metrics.accuracy_score(y_test, y_pred)*100)\n",
        "\n",
        "\n",
        "precision, recall, f1_score, _ = precision_recall_fscore_support(y_test, y_pred, average='macro')  #Average can changed based on choice or feasibilty\n",
        "print(\"Precision: \", precision*100)\n",
        "print(\"Recall: \", recall*100)\n",
        "print(\"F1 score: \", f1_score*100)"
      ],
      "execution_count": null,
      "outputs": [
        {
          "output_type": "stream",
          "text": [
            "Accuracy: 78.35497835497836\n",
            "Precision:  76.0\n",
            "Recall:  71.93148562575314\n",
            "F1 score:  73.23911028730306\n"
          ],
          "name": "stdout"
        }
      ]
    },
    {
      "cell_type": "code",
      "metadata": {
        "colab": {
          "base_uri": "https://localhost:8080/"
        },
        "id": "80cINzk0nhWh",
        "outputId": "463387e9-12f9-4a87-ca6f-32d5b5ac56c6"
      },
      "source": [
        "#Logistic Regression\n",
        "import pandas as pd\n",
        "from sklearn.model_selection import train_test_split # Import train_test_split function\n",
        "from sklearn import metrics #Import scikit-learn metrics module for accuracy calculation\n",
        "from sklearn.linear_model import LogisticRegression\n",
        "col_names = ['pregnant', 'glucose', 'bp', 'skin', 'insulin', 'bmi', 'pedigree', 'age', 'label']\n",
        "# load dataset\n",
        "pima = pd.read_csv(\"diabetes.csv\", header=None, names=col_names)\n",
        "feature_cols = ['pregnant', 'insulin', 'bmi', 'age','glucose','bp','pedigree']\n",
        "X = pima[feature_cols] # Features\n",
        "y = pima.label # Target variable\n",
        "\n",
        "X_train, X_test, y_train, y_test = train_test_split(X, y, test_size=0.3,random_state=0)\n",
        "\n",
        "\n",
        "clf=LogisticRegression(solver='lbfgs', max_iter=200,random_state=0)\n",
        "\n",
        "\n",
        "\n",
        "#Train the model using the training sets\n",
        "clf.fit(X_train, y_train)\n",
        "\n",
        "#Predict the response for test dataset\n",
        "y_pred = clf.predict(X_test)\n",
        "y_pred = clf.predict(X_test)\n",
        "from sklearn.metrics import precision_recall_fscore_support, accuracy_score\n",
        "print(\"Accuracy:\",metrics.accuracy_score(y_test, y_pred)*100)\n",
        "\n",
        "\n",
        "precision, recall, f1_score, _ = precision_recall_fscore_support(y_test, y_pred, average='macro')  #Average can changed based on choice or feasibilty\n",
        "print(\"Precision: \", precision*100)\n",
        "print(\"Recall: \", recall*100)\n",
        "print(\"F1 score: \", f1_score*100)"
      ],
      "execution_count": null,
      "outputs": [
        {
          "output_type": "stream",
          "text": [
            "Accuracy: 78.78787878787878\n",
            "Precision:  76.70454545454545\n",
            "Recall:  72.24995696333276\n",
            "F1 score:  73.65039458062714\n"
          ],
          "name": "stdout"
        }
      ]
    },
    {
      "cell_type": "code",
      "metadata": {
        "id": "3rwlrkvOtgZC",
        "colab": {
          "base_uri": "https://localhost:8080/"
        },
        "outputId": "aa869366-eb3a-4e4f-80e7-678ebc5e4d75"
      },
      "source": [
        "#KNeighbors Classifier\n",
        "import pandas as pd\n",
        "from sklearn.model_selection import train_test_split # Import train_test_split function\n",
        "from sklearn import metrics #Import scikit-learn metrics module for accuracy calculation\n",
        "col_names = ['pregnant', 'glucose', 'bp', 'skin', 'insulin', 'bmi', 'pedigree', 'age', 'label']\n",
        "# load dataset\n",
        "pima = pd.read_csv(\"diabetes.csv\", header=None, names=col_names)\n",
        "feature_cols = ['pregnant', 'insulin', 'bmi', 'age','glucose','bp','pedigree']\n",
        "X = pima[feature_cols] # Features\n",
        "y = pima.label # Target variable\n",
        "\n",
        "X_train, X_test, y_train, y_test = train_test_split(X, y, test_size=0.3,random_state=0)\n",
        "\n",
        "from sklearn.neighbors import KNeighborsClassifier\n",
        "\n",
        "#Create KNN Classifier\n",
        "knn = KNeighborsClassifier(n_neighbors=8)\n",
        "\n",
        "#Train the model using the training sets\n",
        "knn.fit(X_train, y_train)\n",
        "\n",
        "#Predict the response for test dataset\n",
        "y_pred = knn.predict(X_test)\n",
        "\n",
        "\n",
        "from sklearn.metrics import precision_recall_fscore_support, accuracy_score\n",
        "\n",
        "print(\"Accuracy:\",metrics.accuracy_score(y_test, y_pred)*100)\n",
        "\n",
        "\n",
        "precision, recall, f1_score, _ = precision_recall_fscore_support(y_test, y_pred, average='macro')  #Average can changed based on choice or feasibilty\n",
        "print(\"Precision: \", precision*100)\n",
        "print(\"Recall: \", recall*100)\n",
        "print(\"F1 score: \", f1_score*100)\n",
        "\n",
        "classes={0:'other',1:'diabetes'}\n",
        "x_new=[[5,0,25,45,138,80,1]]\n",
        "y_predict=knn.predict(x_new)\n",
        "print(classes[y_predict[0]])"
      ],
      "execution_count": null,
      "outputs": [
        {
          "output_type": "stream",
          "text": [
            "Accuracy: 75.75757575757575\n",
            "Precision:  72.7599914052428\n",
            "Recall:  68.23463590979514\n",
            "F1 score:  69.44444444444444\n",
            "other\n"
          ],
          "name": "stdout"
        }
      ]
    },
    {
      "cell_type": "code",
      "metadata": {
        "id": "X6MLeNiLqFzy"
      },
      "source": [
        "1.'dtree'\n",
        "Accuracy: 74.02597402597402\n",
        "Precision:  70.33685268979386\n",
        "Recall:  70.88999827853331\n",
        "F1 score:  70.58573853989813\n",
        "\n",
        "2.'rtree'\n",
        "Accuracy: 77.92207792207793\n",
        "Precision:  74.90079365079364\n",
        "Recall:  72.6846273024617\n",
        "F1 score:  73.54070746771477\n",
        "\n",
        "3.'svm'\n",
        "Accuracy: 78.35497835497836\n",
        "Precision:  76.0\n",
        "Recall:  71.93148562575314\n",
        "F1 score:  73.23911028730306\n",
        "\n",
        "4.'logre'\n",
        "Accuracy: 78.78787878787878\n",
        "Precision:  76.70454545454545\n",
        "Recall:  72.24995696333276\n",
        "F1 score:  73.65039458062714\n",
        "\n",
        "5.'knn'\n",
        "Accuracy: 71.86147186147186\n",
        "Precision:  67.31696014828546\n",
        "Recall:  66.0828025477707\n",
        "F1 score:  66.55678553132726"
      ],
      "execution_count": null,
      "outputs": []
    },
    {
      "cell_type": "code",
      "metadata": {
        "colab": {
          "base_uri": "https://localhost:8080/",
          "height": 506
        },
        "id": "eZ8hQ8wDqFAR",
        "outputId": "dc1af6ae-393c-4bc4-8817-06283c096e1d"
      },
      "source": [
        "import numpy as np\n",
        "import matplotlib.pyplot as plt\n",
        "\n",
        "# set width of bar\n",
        "barWidth = 0.2\n",
        "fig = plt.subplots(figsize =(12, 8))\n",
        "\n",
        "  \n",
        "\n",
        "# set height of bar\n",
        "acc = [74.02597402597402, 77.92207792207793, 78.35497835497836, 78.78787878787878, 71.86147186147186]\n",
        "pre = [70.33685268979386, 74.90079365079364, 76.0, 76.70454545454545, 67.31696014828546]\n",
        "call = [70.88999827853331, 72.6846273024617, 71.93148562575314, 72.24995696333276, 66.0828025477707]\n",
        "score = [70.58573853989813,73.54070746771477,73.23911028730306 ,73.65039458062714,66.55678553132726]\n",
        "# Set position of bar on X axis\n",
        "br1 = np.arange(len(IT))\n",
        "br2 = [x + barWidth for x in br1]\n",
        "br3 = [x + barWidth for x in br2]\n",
        "br4 = [x + barWidth for x in br3]\n",
        "# Make the plot\n",
        "plt.bar(br1, acc, color ='red', width = barWidth,\n",
        "\t\tedgecolor ='grey', label ='Accuracy')\n",
        "plt.bar(br2, pre, color ='green', width = barWidth,\n",
        "\t\tedgecolor ='grey', label ='Precision')\n",
        "plt.bar(br3, call, color ='blue', width = barWidth,\n",
        "\t\tedgecolor ='grey', label ='Recall')\n",
        "plt.bar(br4, score, color ='orange', width = barWidth,\n",
        "\t\tedgecolor ='grey', label ='F1 Score')\n",
        "\n",
        "# Adding Xticks\n",
        "plt.xlabel('Algorithms', fontweight ='bold', fontsize = 15)\n",
        "plt.ylabel('Parameters', fontweight ='bold', fontsize = 15)\n",
        "plt.xticks([r + barWidth for r in range(len(IT))],\n",
        "\t\t['Decision Tree', 'Random Forest', 'SVM', '       Logistic Regression', 'KNN'])\n",
        "\n",
        "plt.legend(title = \"Parameters\")\n",
        "plt.ylim(65, 80)\n",
        "plt.show()\n"
      ],
      "execution_count": null,
      "outputs": [
        {
          "output_type": "display_data",
          "data": {
            "image/png": "[encoded data removed]",
            "text/plain": [
              "<Figure size 864x576 with 1 Axes>"
            ]
          },
          "metadata": {
            "tags": [],
            "needs_background": "light"
          }
        }
      ]
    }
  ]
}