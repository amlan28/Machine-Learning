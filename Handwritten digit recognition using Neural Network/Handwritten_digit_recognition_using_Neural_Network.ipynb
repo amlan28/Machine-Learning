{
  "nbformat": 4,
  "nbformat_minor": 0,
  "metadata": {
    "colab": {
      "name": "Handwritten digit recognition using Neural Network.ipynb",
      "provenance": []
    },
    "kernelspec": {
      "name": "python3",
      "display_name": "Python 3"
    },
    "language_info": {
      "name": "python"
    }
  },
  "cells": [
    {
      "cell_type": "code",
      "metadata": {
        "colab": {
          "base_uri": "https://localhost:8080/"
        },
        "id": "Ou8gaEHmktqE",
        "outputId": "ca95ea00-f466-48b8-a5d0-3ca5ca91c717"
      },
      "source": [
        "# Baseline MLP for MNIST dataset\n",
        "from keras.datasets import mnist\n",
        "from keras.models import Sequential\n",
        "from keras.layers import Dense\n",
        "from keras.utils import np_utils\n",
        "# load data\n",
        "(X_train, y_train), (X_test, y_test) = mnist.load_data()\n",
        "# flatten 28*28 images to a 784 vector for each image\n",
        "num_pixels = X_train.shape[1] * X_train.shape[2]\n",
        "X_train = X_train.reshape((X_train.shape[0], num_pixels)).astype('float32')\n",
        "X_test = X_test.reshape((X_test.shape[0], num_pixels)).astype('float32')\n",
        "# normalize inputs from 0-255 to 0-1\n",
        "X_train = X_train / 255\n",
        "X_test = X_test / 255\n",
        "# one hot encode outputs\n",
        "y_train = np_utils.to_categorical(y_train)\n",
        "y_test = np_utils.to_categorical(y_test)\n",
        "num_classes = y_test.shape[1]\n",
        "# define baseline model\n",
        "def baseline_model():\n",
        "  # create model\n",
        "  model = Sequential()\n",
        "  model.add(Dense(num_pixels, input_dim=num_pixels, kernel_initializer='normal', activation='relu'))\n",
        "  model.add(Dense(num_classes, kernel_initializer='normal', activation='softmax'))\n",
        "  # Compile model\n",
        "  model.compile(loss='categorical_crossentropy', optimizer='adam', metrics=['accuracy'])\n",
        "  return model\n",
        "# build the model\n",
        "model = baseline_model()\n",
        "# Fit the model\n",
        "model.fit(X_train, y_train, validation_data=(X_test, y_test), epochs=10, batch_size=200, verbose=2)\n",
        "# Final evaluation of the model\n",
        "scores = model.evaluate(X_test, y_test, verbose=0)\n",
        "print(\"Baseline Error: %.2f%%\" % (100-scores[1]*100))\n"
      ],
      "execution_count": 25,
      "outputs": [
        {
          "output_type": "stream",
          "name": "stdout",
          "text": [
            "Downloading data from https://storage.googleapis.com/tensorflow/tf-keras-datasets/mnist.npz\n",
            "11493376/11490434 [==============================] - 0s 0us/step\n",
            "11501568/11490434 [==============================] - 0s 0us/step\n",
            "Epoch 1/10\n",
            "300/300 - 5s - loss: 0.2811 - accuracy: 0.9192 - val_loss: 0.1361 - val_accuracy: 0.9605\n",
            "Epoch 2/10\n",
            "300/300 - 4s - loss: 0.1105 - accuracy: 0.9680 - val_loss: 0.0915 - val_accuracy: 0.9733\n",
            "Epoch 3/10\n",
            "300/300 - 4s - loss: 0.0716 - accuracy: 0.9789 - val_loss: 0.0726 - val_accuracy: 0.9767\n",
            "Epoch 4/10\n",
            "300/300 - 4s - loss: 0.0496 - accuracy: 0.9859 - val_loss: 0.0637 - val_accuracy: 0.9797\n",
            "Epoch 5/10\n",
            "300/300 - 4s - loss: 0.0360 - accuracy: 0.9894 - val_loss: 0.0581 - val_accuracy: 0.9816\n",
            "Epoch 6/10\n",
            "300/300 - 4s - loss: 0.0262 - accuracy: 0.9928 - val_loss: 0.0608 - val_accuracy: 0.9816\n",
            "Epoch 7/10\n",
            "300/300 - 4s - loss: 0.0197 - accuracy: 0.9953 - val_loss: 0.0598 - val_accuracy: 0.9811\n",
            "Epoch 8/10\n",
            "300/300 - 4s - loss: 0.0139 - accuracy: 0.9969 - val_loss: 0.0595 - val_accuracy: 0.9818\n",
            "Epoch 9/10\n",
            "300/300 - 4s - loss: 0.0113 - accuracy: 0.9975 - val_loss: 0.0608 - val_accuracy: 0.9819\n",
            "Epoch 10/10\n",
            "300/300 - 4s - loss: 0.0084 - accuracy: 0.9985 - val_loss: 0.0597 - val_accuracy: 0.9823\n",
            "Baseline Error: 1.77%\n"
          ]
        }
      ]
    }
  ]
}